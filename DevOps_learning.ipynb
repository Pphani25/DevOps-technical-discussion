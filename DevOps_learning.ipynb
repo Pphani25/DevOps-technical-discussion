{
  "nbformat": 4,
  "nbformat_minor": 0,
  "metadata": {
    "colab": {
      "provenance": [],
      "authorship_tag": "ABX9TyMX8a25FrJxsIjFXEz/ALCm",
      "include_colab_link": true
    },
    "kernelspec": {
      "name": "python3",
      "display_name": "Python 3"
    },
    "language_info": {
      "name": "python"
    }
  },
  "cells": [
    {
      "cell_type": "markdown",
      "metadata": {
        "id": "view-in-github",
        "colab_type": "text"
      },
      "source": [
        "<a href=\"https://colab.research.google.com/github/Pphani25/DevOps-technical-discussion/blob/main/DevOps_learning.ipynb\" target=\"_parent\"><img src=\"https://colab.research.google.com/assets/colab-badge.svg\" alt=\"Open In Colab\"/></a>"
      ]
    },
    {
      "cell_type": "code",
      "execution_count": 3,
      "metadata": {
        "colab": {
          "base_uri": "https://localhost:8080/",
          "height": 35
        },
        "id": "gdXp5Lgz8aBD",
        "outputId": "3ecadb15-70de-4a18-aefa-3f894db388ca"
      },
      "outputs": [
        {
          "output_type": "execute_result",
          "data": {
            "text/plain": [
              "'Hi Devops learning'"
            ],
            "application/vnd.google.colaboratory.intrinsic+json": {
              "type": "string"
            }
          },
          "metadata": {},
          "execution_count": 3
        }
      ],
      "source": [
        "def hello():\n",
        "  return \"Hi Devops learning\"\n",
        "\n",
        "hello()"
      ]
    },
    {
      "cell_type": "markdown",
      "source": [
        "EDA\n"
      ],
      "metadata": {
        "id": "HRsLnA7P90D3"
      }
    },
    {
      "cell_type": "markdown",
      "source": [
        "## Heading"
      ],
      "metadata": {
        "id": "HrXWA_UY95JG"
      }
    },
    {
      "cell_type": "code",
      "source": [],
      "metadata": {
        "id": "mmQp6hR_9ztO"
      },
      "execution_count": null,
      "outputs": []
    },
    {
      "cell_type": "markdown",
      "source": [
        "Learning"
      ],
      "metadata": {
        "id": "3gZpqXAk9vZH"
      }
    },
    {
      "cell_type": "markdown",
      "source": [
        "texting"
      ],
      "metadata": {
        "id": "s65Bs-SB9pRY"
      }
    },
    {
      "cell_type": "code",
      "source": [],
      "metadata": {
        "id": "k-7K2kW19rb7"
      },
      "execution_count": null,
      "outputs": []
    }
  ]
}